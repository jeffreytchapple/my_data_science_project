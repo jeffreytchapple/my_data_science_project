{
 "cells": [
  {
   "cell_type": "markdown",
   "id": "fd3a92b6",
   "metadata": {},
   "source": [
    "# 🧼 Data Preprocessing Example\n",
    "\n",
    "This notebook shows how to use the data loader and preprocessing functions."
   ]
  },
  {
   "cell_type": "code",
   "execution_count": null,
   "id": "893eab43",
   "metadata": {},
   "outputs": [],
   "source": [
    "from src.data_loader import load_data\n",
    "from src.preprocessing import clean_data"
   ]
  },
  {
   "cell_type": "code",
   "execution_count": null,
   "id": "7da4326d",
   "metadata": {},
   "outputs": [],
   "source": [
    "# Load raw data\n",
    "df = load_data('people.csv')\n",
    "df.head()"
   ]
  },
  {
   "cell_type": "code",
   "execution_count": null,
   "id": "9f4a7573",
   "metadata": {},
   "outputs": [],
   "source": [
    "# Clean data\n",
    "df_clean = clean_data(df)\n",
    "df_clean.head()"
   ]
  },
  {
   "cell_type": "code",
   "execution_count": null,
   "id": "c1a0aac6",
   "metadata": {},
   "outputs": [],
   "source": [
    "# Save processed data\n",
    "df_clean.to_csv('data/processed/people_clean.csv', index=False)"
   ]
  }
 ],
 "metadata": {},
 "nbformat": 4,
 "nbformat_minor": 5
}