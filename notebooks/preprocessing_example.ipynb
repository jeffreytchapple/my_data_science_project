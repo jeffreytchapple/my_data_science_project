{
 "cells": [
  {
   "cell_type": "markdown",
   "id": "b133514d",
   "metadata": {},
   "source": [
    "# 🧼 Data Preprocessing Example\n",
    "\n",
    "This notebook shows how to use the data loader and preprocessing functions."
   ]
  },
  {
   "cell_type": "code",
   "execution_count": null,
   "id": "0c932d66",
   "metadata": {},
   "outputs": [],
   "source": [
    "from src.data_loader import load_data\n",
    "from src.preprocessing import clean_data"
   ]
  },
  {
   "cell_type": "code",
   "execution_count": null,
   "id": "4a94089c",
   "metadata": {},
   "outputs": [],
   "source": [
    "# Load raw data\n",
    "df = load_data(\"people.csv\")\n",
    "df.head()"
   ]
  },
  {
   "cell_type": "code",
   "execution_count": null,
   "id": "f2383327",
   "metadata": {},
   "outputs": [],
   "source": [
    "# Clean data\n",
    "df_clean = clean_data(df)\n",
    "df_clean.head()"
   ]
  },
  {
   "cell_type": "code",
   "execution_count": null,
   "id": "18e8ac82",
   "metadata": {},
   "outputs": [],
   "source": [
    "# Save processed data\n",
    "df_clean.to_csv(\"data/processed/people_clean.csv\", index=False)"
   ]
  }
 ],
 "metadata": {
  "kernelspec": {
   "display_name": "Python 3 (ipykernel)",
   "language": "python",
   "name": "python3"
  },
  "language_info": {
   "codemirror_mode": {
    "name": "ipython",
    "version": 3
   },
   "file_extension": ".py",
   "mimetype": "text/x-python",
   "name": "python",
   "nbconvert_exporter": "python",
   "pygments_lexer": "ipython3",
   "version": "3.12.4"
  }
 },
 "nbformat": 4,
 "nbformat_minor": 5
}
