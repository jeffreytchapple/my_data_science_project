{
 "cells": [
  {
   "cell_type": "markdown",
   "id": "b133514d",
   "metadata": {},
   "source": [
    "# 🧼 Data Preprocessing Example\n",
    "\n",
    "This notebook shows how to use the data loader and preprocessing functions."
   ]
  },
  {
   "cell_type": "code",
   "execution_count": null,
   "id": "0c932d66",
   "metadata": {},
   "outputs": [],
   "source": [
    "from src.data_loader import load_data\n",
    "from src.preprocessing import clean_data"
   ]
  },
  {
   "cell_type": "code",
   "execution_count": null,
   "id": "4a94089c",
   "metadata": {},
   "outputs": [],
   "source": [
    "# Load raw data\n",
    "df = load_data(\"people.csv\")\n",
    "df.head()"
   ]
  },
  {
   "cell_type": "code",
   "execution_count": null,
   "id": "f2383327",
   "metadata": {},
   "outputs": [],
   "source": [
    "# Clean data\n",
    "df_clean = clean_data(df)\n",
    "df_clean.head()"
   ]
  },
  {
   "cell_type": "code",
   "execution_count": null,
   "id": "18e8ac82",
   "metadata": {},
   "outputs": [],
   "source": [
    "# Save processed data\n",
    "df_clean.to_csv(\"data/processed/people_clean.csv\", index=False)"
   ]
  }
 ],
 "metadata": {},
 "nbformat": 4,
 "nbformat_minor": 5
}