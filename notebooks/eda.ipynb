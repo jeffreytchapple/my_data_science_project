{
 "cells": [
  {
   "cell_type": "markdown",
   "id": "edac59e1",
   "metadata": {},
   "source": [
    "# Exploratory Data Analysis\n",
    "\n",
    "This is a starter Jupyter notebook."
   ]
  },
  {
   "cell_type": "code",
   "execution_count": null,
   "id": "29547f2a",
   "metadata": {},
   "outputs": [],
   "source": [
    "import pandas as pd\n",
    "import numpy as np\n",
    "import matplotlib.pyplot as plt"
   ]
  },
  {
   "cell_type": "code",
   "execution_count": null,
   "id": "7a3d7ab0",
   "metadata": {},
   "outputs": [],
   "source": [
    "# Example DataFrame\n",
    "df = pd.DataFrame({\n",
    "    'x': np.arange(10),\n",
    "    'y': np.random.randn(10)\n",
    "})\n",
    "df.head()"
   ]
  },
  {
   "cell_type": "code",
   "execution_count": null,
   "id": "7587db60",
   "metadata": {},
   "outputs": [],
   "source": [
    "# Plot\n",
    "plt.plot(df['x'], df['y'])\n",
    "plt.title('Sample Plot')\n",
    "plt.show()"
   ]
  }
 ],
 "metadata": {},
 "nbformat": 4,
 "nbformat_minor": 5
}